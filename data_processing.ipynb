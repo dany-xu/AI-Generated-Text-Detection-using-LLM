{
  "nbformat": 4,
  "nbformat_minor": 0,
  "metadata": {
    "colab": {
      "provenance": [],
      "authorship_tag": "ABX9TyOoXXvmzDxhy96LMY3w55gb",
      "include_colab_link": true
    },
    "kernelspec": {
      "name": "python3",
      "display_name": "Python 3"
    },
    "language_info": {
      "name": "python"
    }
  },
  "cells": [
    {
      "cell_type": "markdown",
      "metadata": {
        "id": "view-in-github",
        "colab_type": "text"
      },
      "source": [
        "<a href=\"https://colab.research.google.com/github/dany-xu/AI-Generated-Text-Detection-using-LLM/blob/main/data_processing.ipynb\" target=\"_parent\"><img src=\"https://colab.research.google.com/assets/colab-badge.svg\" alt=\"Open In Colab\"/></a>"
      ]
    },
    {
      "cell_type": "code",
      "execution_count": null,
      "metadata": {
        "colab": {
          "base_uri": "https://localhost:8080/"
        },
        "id": "75kMolvavyoF",
        "outputId": "a3324c51-48de-4967-a794-1b66d3ffc89e"
      },
      "outputs": [
        {
          "output_type": "stream",
          "name": "stdout",
          "text": [
            "Mounted at /content/drive\n"
          ]
        }
      ],
      "source": [
        "import numpy as np\n",
        "import pandas as pd\n",
        "from google.colab import drive\n",
        "drive.mount('/content/drive') # current dir: '/content'"
      ]
    },
    {
      "cell_type": "code",
      "source": [
        "fusion = pd.read_excel(\"./drive/MyDrive/ColabNotebooks/llm/ieee-chatgpt-fusion.xlsx\").drop(columns=[\"Unnamed: 0\",\"index\"])\n",
        "generation = pd.read_excel(\"./drive/MyDrive/ColabNotebooks/llm/ieee-chatgpt-generation.xlsx\").drop(columns=[\"Unnamed: 0\",\"Unnamed: 0.1\"])\n",
        "polish = pd.read_excel(\"./drive/MyDrive/ColabNotebooks/llm/ieee-chatgpt-polish.xlsx\")\n",
        "human = pd.read_excel(\"./drive/MyDrive/ColabNotebooks/llm/ieee-init-15395.xlsx\")\n",
        "fusion.shape, generation.shape, human.shape, human.shape"
      ],
      "metadata": {
        "colab": {
          "base_uri": "https://localhost:8080/"
        },
        "id": "8n5wl9ZAv8sV",
        "outputId": "6a64b106-185e-4eff-e6a6-5902814f6a62"
      },
      "execution_count": null,
      "outputs": [
        {
          "output_type": "execute_result",
          "data": {
            "text/plain": [
              "((4514, 4), (15395, 4), (15395, 4), (15395, 4))"
            ]
          },
          "metadata": {},
          "execution_count": 2
        }
      ]
    },
    {
      "cell_type": "code",
      "source": [
        "# add one more label column for each dataset\n",
        "fusion['label'] = '0'\n",
        "generation['label'] = '0'\n",
        "polish['label'] = '0'\n",
        "human['label'] = '1'\n",
        "fusion.shape, generation.shape, human.shape, human.shape"
      ],
      "metadata": {
        "colab": {
          "base_uri": "https://localhost:8080/"
        },
        "id": "1C6OqPBLv81Q",
        "outputId": "51138bf6-808a-4936-eab6-0910d53ae42f"
      },
      "execution_count": null,
      "outputs": [
        {
          "output_type": "execute_result",
          "data": {
            "text/plain": [
              "((4514, 5), (15395, 5), (15395, 5), (15395, 5))"
            ]
          },
          "metadata": {},
          "execution_count": 3
        }
      ]
    },
    {
      "cell_type": "code",
      "source": [
        "fusion.columns, human.columns"
      ],
      "metadata": {
        "colab": {
          "base_uri": "https://localhost:8080/"
        },
        "id": "jcFcdAocv8yw",
        "outputId": "156b262b-7ee2-4434-d654-1595f927ed3c"
      },
      "execution_count": null,
      "outputs": [
        {
          "output_type": "execute_result",
          "data": {
            "text/plain": [
              "(Index(['id', 'title', 'keyword', 'abstract', 'label'], dtype='object'),\n",
              " Index(['id', 'title', 'keyword', 'abstract', 'label'], dtype='object'))"
            ]
          },
          "metadata": {},
          "execution_count": 31
        }
      ]
    },
    {
      "cell_type": "code",
      "source": [
        "data = pd.concat([fusion, generation, human, human], ignore_index=True)\n",
        "data.to_csv(\"./drive/MyDrive/ColabNotebooks/llm/concat_ori.csv\")"
      ],
      "metadata": {
        "id": "CJhsQkqMxrpN"
      },
      "execution_count": null,
      "outputs": []
    },
    {
      "cell_type": "code",
      "source": [],
      "metadata": {
        "id": "LiGQud4sv85f"
      },
      "execution_count": null,
      "outputs": []
    }
  ]
}